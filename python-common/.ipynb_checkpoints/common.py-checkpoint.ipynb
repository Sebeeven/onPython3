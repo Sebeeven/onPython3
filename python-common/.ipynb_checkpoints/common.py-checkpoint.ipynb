{
 "cells": [
  {
   "cell_type": "code",
   "execution_count": 3,
   "metadata": {
    "collapsed": false,
    "deletable": true,
    "editable": true
   },
   "outputs": [
    {
     "name": "stdout",
     "output_type": "stream",
     "text": [
      "[1, 2, 3, 4, 5]\n"
     ]
    }
   ],
   "source": [
    "# 列表推导式\n",
    "nums = [number for number in range(1, 6)]\n",
    "print(nums)"
   ]
  },
  {
   "cell_type": "code",
   "execution_count": 4,
   "metadata": {
    "collapsed": false,
    "deletable": true,
    "editable": true
   },
   "outputs": [
    {
     "name": "stdout",
     "output_type": "stream",
     "text": [
      "{'r': 1, 's': 1, 't': 2, 'e': 2, 'l': 1}\n"
     ]
    }
   ],
   "source": [
    "# 字典推导式\n",
    "word = 'letters'\n",
    "letters = {letter: word.count(letter) for letter in word}\n",
    "print(letters)"
   ]
  },
  {
   "cell_type": "code",
   "execution_count": 6,
   "metadata": {
    "collapsed": false,
    "deletable": true,
    "editable": true
   },
   "outputs": [
    {
     "name": "stdout",
     "output_type": "stream",
     "text": [
      "{1, 4}\n"
     ]
    }
   ],
   "source": [
    "# 集合推导式\n",
    "a_set = {number for number in range(1, 6) if number % 3 == 1}\n",
    "print(a_set)"
   ]
  },
  {
   "cell_type": "code",
   "execution_count": 7,
   "metadata": {
    "collapsed": false,
    "deletable": true,
    "editable": true
   },
   "outputs": [
    {
     "name": "stdout",
     "output_type": "stream",
     "text": [
      "Monday : drink  coffee  - eat  banana  - enjoy  tiramisu\n",
      "Tuesday : drink  tea  - eat  orange  - enjoy  ice cream\n",
      "Wednesday : drink  beer  - eat  peach  - enjoy  pie\n"
     ]
    }
   ],
   "source": [
    "# zip()并行迭代\n",
    "days = ['Monday', 'Tuesday', 'Wednesday']\n",
    "fruits = ['banana', 'orange', 'peach']\n",
    "drinks = ['coffee', 'tea', 'beer']\n",
    "desserts = ['tiramisu', 'ice cream', 'pie', 'pudding']\n",
    "for day, fruit, drink, dessert in zip(days, fruits, drinks, desserts):\n",
    "    print(day, \": drink \", drink, \" - eat \", fruit, \" - enjoy \", dessert)"
   ]
  },
  {
   "cell_type": "code",
   "execution_count": 10,
   "metadata": {
    "collapsed": false,
    "deletable": true,
    "editable": true
   },
   "outputs": [
    {
     "name": "stdout",
     "output_type": "stream",
     "text": [
      "['Harry', 'Henry', 'Barkley']\n",
      "Harry,Henry,Barkley\n"
     ]
    }
   ],
   "source": [
    "# split()与join()\n",
    "friends = \"Harry,Henry,Barkley\"\n",
    "friends_list = friends.split(',')\n",
    "print(friends_list)\n",
    "joined_str = ','.join(friends_list)\n",
    "print(joined_str)"
   ]
  },
  {
   "cell_type": "code",
   "execution_count": 13,
   "metadata": {
    "collapsed": false,
    "deletable": true,
    "editable": true
   },
   "outputs": [
    {
     "name": "stdout",
     "output_type": "stream",
     "text": [
      "{'wine': 'chardonnay', 'entree': 'chicken', 'dessert': 'cake'}\n",
      "{'wine': 'bordeaux', 'entree': 'beef', 'dessert': 'bagel'}\n"
     ]
    }
   ],
   "source": [
    "# 函数\n",
    "# 位置参数，如：\n",
    "def menu(wine, entree, dessert):\n",
    "    return {'wine': wine, 'entree': entree, 'dessert': dessert}\n",
    "print(menu('chardonnay', 'chicken', 'cake'))\n",
    "\n",
    "# 关键字参数，如：\n",
    "print(menu(entree='beef', dessert='bagel', wine='bordeaux'))\n",
    "# kwarg"
   ]
  },
  {
   "cell_type": "code",
   "execution_count": 17,
   "metadata": {
    "collapsed": false,
    "deletable": true,
    "editable": true
   },
   "outputs": [
    {
     "name": "stdout",
     "output_type": "stream",
     "text": [
      "Positional argument tuple:  (3, 2, 'wait!', 2, 'uh...')\n",
      "Need this one: cap\n",
      "Need this one too: 2\n",
      "All the rest: ('gloves', 'banana', 6)\n"
     ]
    }
   ],
   "source": [
    "# 函数\n",
    "# # args, 使用*号收集\n",
    "def print_args(*args):\n",
    "    print('Positional argument tuple: ', args)\n",
    "\n",
    "print_args(3, 2, 'wait!', 2, 'uh...')\n",
    "\n",
    "def print_more(required1, required2, *args):\n",
    "    print('Need this one:', required1)\n",
    "    print('Need this one too:', required2)\n",
    "    print('All the rest:', args)\n",
    "\n",
    "print_more('cap', 2, 'gloves', 'banana', 2*3)"
   ]
  },
  {
   "cell_type": "code",
   "execution_count": 18,
   "metadata": {
    "collapsed": false,
    "deletable": true,
    "editable": true
   },
   "outputs": [
    {
     "name": "stdout",
     "output_type": "stream",
     "text": [
      "Keyword arguments:  {'wine': 'merlot', 'entree': 'mutton', 'dessert': 'macaroon'}\n"
     ]
    }
   ],
   "source": [
    "# 函数\n",
    "# # kwargs, 使用**号收集\n",
    "def print_kwargs(**kwargs):\n",
    "    print('Keyword arguments: ', kwargs)\n",
    "    \n",
    "print_kwargs(wine='merlot', entree='mutton', dessert='macaroon')"
   ]
  },
  {
   "cell_type": "code",
   "execution_count": 5,
   "metadata": {
    "collapsed": false,
    "deletable": true,
    "editable": true
   },
   "outputs": [
    {
     "name": "stdout",
     "output_type": "stream",
     "text": [
      "Running function:  add_ints\n",
      "Positional arguments:  (3, 5)\n",
      "Keyword arguments:  {}\n",
      "Result:  8\n",
      "Running function:  add_ints2\n",
      "Positional arguments:  (3, 6)\n",
      "Keyword arguments:  {}\n",
      "Result:  9\n",
      "未交换顺序前：\n",
      "Running function:  new_function\n",
      "Positional arguments:  (2, 7)\n",
      "Keyword arguments:  {}\n",
      "Result:  81\n",
      "交换顺序后：\n",
      "Running function:  add_ints4\n",
      "Positional arguments:  (2, 7)\n",
      "Keyword arguments:  {}\n",
      "Result:  9\n"
     ]
    },
    {
     "data": {
      "text/plain": [
       "81"
      ]
     },
     "execution_count": 5,
     "metadata": {},
     "output_type": "execute_result"
    }
   ],
   "source": [
    "# 装饰器: 把一个函数作为输入且返回另外一个函数\n",
    "# 需使用如下python技巧\n",
    "# 1. *args和**kwargs\n",
    "# 2. 闭包\n",
    "# 3. 作为参数的函数\n",
    "def document_it(func):\n",
    "    def new_function(*args, **kwargs):\n",
    "        print('Running function: ', func.__name__)\n",
    "        print('Positional arguments: ', args)\n",
    "        print('Keyword arguments: ', kwargs)\n",
    "        result = func(*args, **kwargs)\n",
    "        print('Result: ', result)\n",
    "        return result\n",
    "    return new_function\n",
    "\n",
    "# 人工赋值\n",
    "def add_ints(a, b):\n",
    "    return a + b\n",
    "\n",
    "cooler_add_ints = document_it(add_ints)\n",
    "cooler_add_ints(3, 5)\n",
    "\n",
    "# 在函数定义时添加\n",
    "@document_it\n",
    "def add_ints2(a, b):\n",
    "    return a + b\n",
    "\n",
    "add_ints2(3, 6)\n",
    "\n",
    "# 可添加多个装饰器，且任何顺序都会得到相同的最终结果。中间步骤的实现还是有不一样的。\n",
    "def square_it(func):\n",
    "    def new_function(*args, **kwargs):\n",
    "        result = func(*args, **kwargs)\n",
    "        return result * result\n",
    "    return new_function\n",
    "\n",
    "print(\"未交换顺序前：\")\n",
    "@document_it\n",
    "@square_it\n",
    "def add_ints3(a, b):\n",
    "    return a + b\n",
    "\n",
    "add_ints3(2, 7)\n",
    "\n",
    "\n",
    "print(\"交换顺序后：\")\n",
    "@square_it\n",
    "@document_it\n",
    "def add_ints4(a, b):\n",
    "    return a + b\n",
    "\n",
    "add_ints4(2, 7)"
   ]
  },
  {
   "cell_type": "code",
   "execution_count": 10,
   "metadata": {
    "collapsed": false,
    "deletable": true,
    "editable": true
   },
   "outputs": [
    {
     "name": "stdout",
     "output_type": "stream",
     "text": [
      "inside the getter\n",
      "inside the getter\n",
      "inside the setter\n",
      "inside the getter\n"
     ]
    },
    {
     "data": {
      "text/plain": [
       "'Daffy'"
      ]
     },
     "execution_count": 10,
     "metadata": {},
     "output_type": "execute_result"
    }
   ],
   "source": [
    "# 类class\n",
    "# 使用属性property对特性attribute进行访问和设置\n",
    "class Duck():\n",
    "    def __init__(self, input_name):\n",
    "        self.hidden_name = input_name\n",
    "    def get_name(self):\n",
    "        print('inside the getter')\n",
    "        return self.hidden_name\n",
    "    def set_name(self, input_name):\n",
    "        print('inside the setter')\n",
    "        self.hidden_name = input_name\n",
    "    \n",
    "    name = property(get_name, set_name) # 这里定义属性property\n",
    "    \n",
    "fowl = Duck('Howard')\n",
    "fowl.name\n",
    "fowl.get_name()\n",
    "\n",
    "# 对 name特性赋值时，调用set_name()方法\n",
    "fowl.name = 'Daffy' # 相当于fowl.set_name('Daffy')\n",
    "fowl.name\n"
   ]
  },
  {
   "cell_type": "code",
   "execution_count": 15,
   "metadata": {
    "collapsed": false,
    "deletable": true,
    "editable": true
   },
   "outputs": [
    {
     "name": "stdout",
     "output_type": "stream",
     "text": [
      "inside the getter\n",
      "inside the setter\n",
      "inside the getter\n"
     ]
    },
    {
     "data": {
      "text/plain": [
       "'Donald'"
      ]
     },
     "execution_count": 15,
     "metadata": {},
     "output_type": "execute_result"
    }
   ],
   "source": [
    "# 使用修饰符定义属性。 `@property`指示getter方法, `@属性名.setter`指示setter方法\n",
    "class Duck():\n",
    "    def __init__(self, input_name):\n",
    "        self.hidden_name = input_name\n",
    "        \n",
    "    @property\n",
    "    def name(self):\n",
    "        print('inside the getter')\n",
    "        return self.hidden_name\n",
    "    \n",
    "    @name.setter\n",
    "    def name(self, input_name):\n",
    "        print('inside the setter')\n",
    "        self.hidden_name = input_name\n",
    "        \n",
    "fowl = Duck('Howard')\n",
    "fowl.name\n",
    "fowl.name = 'Donald'\n",
    "fowl.name\n"
   ]
  },
  {
   "cell_type": "code",
   "execution_count": 20,
   "metadata": {
    "collapsed": false,
    "deletable": true,
    "editable": true
   },
   "outputs": [
    {
     "data": {
      "text/plain": [
       "'Howard'"
      ]
     },
     "execution_count": 20,
     "metadata": {},
     "output_type": "execute_result"
    }
   ],
   "source": [
    "# 用__name代替以上hidden_name特性，python对隐藏在类内部的特性有独特的命名规范，`__特性名`，如__name\n",
    "class Duck():\n",
    "    def __init__(self, input_name):\n",
    "        self.__name = input_name\n",
    "        \n",
    "    @property\n",
    "    def name(self):\n",
    "        print('inside the getter')\n",
    "        return self.__name\n",
    "    \n",
    "    @name.setter\n",
    "    def name(self, input_name):\n",
    "        print('inside the setter')\n",
    "        self.__name = input_name\n",
    "        \n",
    "fowl = Duck('Howard')\n",
    "# 无法访问__name特性\n",
    "# fowl.__name\n",
    "# python特有的访问方法： _类名__特性名\n",
    "fowl._Duck__name"
   ]
  },
  {
   "cell_type": "code",
   "execution_count": 32,
   "metadata": {
    "collapsed": false,
    "deletable": true,
    "editable": true
   },
   "outputs": [
    {
     "name": "stdout",
     "output_type": "stream",
     "text": [
      "A has  0  little objects.\n",
      "create easy_a of A\n",
      "easy_a's count:  1\n",
      "------------\n",
      "create breezy_a of A\n",
      "easy_a's count:  2\n",
      "breezy_a's count:  2\n",
      "------------\n",
      "create wheezy_a of A\n",
      "easy_a's count:  3\n",
      "breezy_a's count:  3\n",
      "wheezy_a's count:  3\n",
      "------------\n",
      "A has  3  little objects.\n",
      "------------\n",
      "This CoyoteWeapon has been brought to you by Acme.\n"
     ]
    }
   ],
   "source": [
    "# 方法（函数）的类型：\n",
    "# 1. 实例方法：以self作为第一个参数。调用时把对象作为self参数传入。\n",
    "# 2. 类方法：用`@classmethod`修饰方法且以cls（即class）作为第一个参数。作用于整个类，对类作出的任何改变都会对它的所有实例对象产生影响。\n",
    "# 3. 静态方法：用`@staticmethod`修饰方法，不需要self和cls参数。即不影响类也不影响类的对象\n",
    "\n",
    "class A():\n",
    "    count = 0 # 记录有多少个类A的对象被创建\n",
    "    \n",
    "    def __init__(self):\n",
    "#         self.count += 1 # count永远为1\n",
    "        A.count += 1 # 这里用A.count，而不是self.count，与以下cls.count作用一样，作为类A的记数。注意，所有对象的count都会一起变化。\n",
    "    \n",
    "    def exclaim(self):\n",
    "        print(\"I'm an A!\")\n",
    "    \n",
    "    @classmethod\n",
    "    def kids(cls):\n",
    "        print(\"A has \", cls.count, \" little objects.\")\n",
    "\n",
    "A.kids()\n",
    "easy_a = A()\n",
    "print(\"create easy_a of A\")\n",
    "print(\"easy_a's count: \", easy_a.count)\n",
    "print(\"------------\")\n",
    "breezy_a = A()\n",
    "print(\"create breezy_a of A\")\n",
    "print(\"easy_a's count: \", easy_a.count)\n",
    "print(\"breezy_a's count: \", breezy_a.count)\n",
    "print(\"------------\")\n",
    "wheezy_a = A()\n",
    "print(\"create wheezy_a of A\")\n",
    "print(\"easy_a's count: \", easy_a.count)\n",
    "print(\"breezy_a's count: \", breezy_a.count)\n",
    "print(\"wheezy_a's count: \", wheezy_a.count)\n",
    "print(\"------------\")\n",
    "A.kids()\n",
    "\n",
    "class CoyoteWeapon():\n",
    "    @staticmethod\n",
    "    def commercial():\n",
    "        print('This CoyoteWeapon has been brought to you by Acme.')\n",
    "\n",
    "print(\"------------\")\n",
    "CoyoteWeapon.commercial()\n",
    "\n",
    "# 说明，在讨论python类的时候，有几个约定：\n",
    "# 1.attribute，特性（或属性，要看讨论这部分内容时具体的上下文），数据，类变量\n",
    "# 2.method，方法，函数，类函数，类方法"
   ]
  },
  {
   "cell_type": "code",
   "execution_count": 33,
   "metadata": {
    "collapsed": true,
    "deletable": true,
    "editable": true
   },
   "outputs": [],
   "source": [
    "# 对于所有的关系型数据库，SQL是不完全相同的，且python的DB-API仅仅实现共有的那部分，每一种数据库实现的是包含自己特征和哲学的方言。\n",
    "# 而SQLAlchemy是其中一个著名的用于消除数据库之间差异的跨数据库的python库。"
   ]
  },
  {
   "cell_type": "code",
   "execution_count": 40,
   "metadata": {
    "collapsed": false,
    "deletable": true,
    "editable": true
   },
   "outputs": [
    {
     "name": "stdout",
     "output_type": "stream",
     "text": [
      "You\n",
      "Found  4  matches\n"
     ]
    }
   ],
   "source": [
    "# 关于正则表达式匹配\n",
    "# match/search/findall/sub\n",
    "\n",
    "import re\n",
    "source = 'Young Frankenstein'\n",
    "m = re.match('You', source)\n",
    "if m:\n",
    "    print(m.group())\n",
    "else:\n",
    "    print(\"not match\")\n",
    "    \n",
    "n = re.findall('n', source)\n",
    "print('Found ', len(n), ' matches')"
   ]
  },
  {
   "cell_type": "code",
   "execution_count": 13,
   "metadata": {
    "collapsed": false,
    "deletable": true,
    "editable": true
   },
   "outputs": [
    {
     "name": "stdout",
     "output_type": "stream",
     "text": [
      "Got:  5\n",
      "Got:  helloworld\n",
      "[1] Got: 5\n",
      "[2] Got: helloworld\n"
     ]
    }
   ],
   "source": [
    "# 闭包、回调\n",
    "def apply_async(func, *args, callback):\n",
    "    result = func(*args)\n",
    "    \n",
    "    callback(result)\n",
    "\n",
    "def print_result(result):\n",
    "    print('Got: ', result)\n",
    "    \n",
    "def add(x, y):\n",
    "    return x + y\n",
    "\n",
    "apply_async(add, 2, 3, callback=print_result)\n",
    "apply_async(add, 'hello', 'world', callback=print_result)\n",
    "\n",
    "def make_handler():\n",
    "    sequence = 0 # （1）\n",
    "    def handler(result): # handler就是闭包\n",
    "        nonlocal sequence # 声明此变量作用域不是在handler的范围内，是外部(1)处，即make_handler函数范围内。\n",
    "        sequence += 1\n",
    "        print('[{}] Got: {}'.format(sequence, result))\n",
    "    return handler\n",
    "\n",
    "handler = make_handler()\n",
    "apply_async(add, 2, 3, callback=handler)\n",
    "apply_async(add, 'hello', 'world', callback=handler)"
   ]
  },
  {
   "cell_type": "code",
   "execution_count": null,
   "metadata": {
    "collapsed": true
   },
   "outputs": [],
   "source": []
  }
 ],
 "metadata": {
  "kernelspec": {
   "display_name": "Python 3",
   "language": "python",
   "name": "python3"
  },
  "language_info": {
   "codemirror_mode": {
    "name": "ipython",
    "version": 3
   },
   "file_extension": ".py",
   "mimetype": "text/x-python",
   "name": "python",
   "nbconvert_exporter": "python",
   "pygments_lexer": "ipython3",
   "version": "3.5.2"
  }
 },
 "nbformat": 4,
 "nbformat_minor": 2
}
